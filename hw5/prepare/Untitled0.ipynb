{
 "metadata": {
  "name": ""
 },
 "nbformat": 3,
 "nbformat_minor": 0,
 "worksheets": [
  {
   "cells": [
    {
     "cell_type": "code",
     "collapsed": false,
     "input": [
      "#Source Code for Task 1.\n",
      "from scipy import special as sp\n",
      "\n",
      "print sp.ai_zeros(3)\n",
      "\n",
      "# Source Code for Task 2.\n",
      "\n",
      "from scipy import special as sp\n",
      "import numpy as np\n",
      "import matplotlib.pyplot as plt\n",
      "\n",
      "print sp.ai_zeros(10)\n",
      "print sp.airy(-2.33810741)\n",
      "\n",
      "def xfrange(start, stop, step):\n",
      "    while start < stop:\n",
      "        yield start\n",
      "        start += step\n",
      "\n",
      "p=-0.1\n",
      "z={}\n",
      "x={}\n",
      "\n",
      "for i in xfrange(0,20,0.00001):\n",
      "    x[i]=sp.airy(((np.pi/(2.*1.149))**(2./3))*(-1.)*(1.149+i))\n",
      "    z[i]=sp.airy(((np.pi/(2.*1.149))**(2./3))*(1.149-i))\n",
      "    r = x[i][0]*z[i][2]-x[i][2]*z[i][0]\n",
      "    if (abs(r)<0.5*0.0001 and i-p>0.15):\n",
      "        print \"e=\",i\n",
      "        print \"\u03b6-L/2=\",((np.pi/(2.*1.149))**(2./3))*(-1.)*(1.149+i)\n",
      "        print \"Ai(\u03b6-L/2)=\",x[i][0]\n",
      "        print \"\u03b6L/2=\",((np.pi/(2.*1.149))**(2./3))*(1.149-i)\n",
      "        print \"Bi(\u03b6-L/2)=\",x[i][2]\n",
      "        print \"-b/a=Ai/Bi=\",x[i][0]/x[i][2]\n",
      "        p=i\n"
     ],
     "language": "python",
     "metadata": {},
     "outputs": [
      {
       "output_type": "stream",
       "stream": "stdout",
       "text": [
        "(array([-2.33810741, -4.08794944, -5.52055983]), array([-1.01879297, -3.24819758, -4.82009921]), array([ 0.53565666, -0.41901548,  0.38040647]), array([ 0.70121082, -0.80311137,  0.86520403]))\n",
        "(array([ -2.33810741,  -4.08794944,  -5.52055983,  -6.78670809,\n",
        "        -7.94413359,  -9.02265085, -10.04017434, -11.0085243 ,\n",
        "       -11.93601556, -12.82877675]), array([ -1.01879297,  -3.24819758,  -4.82009921,  -6.16330736,\n",
        "        -7.37217726,  -8.48848673,  -9.53544905, -10.5276604 ,\n",
        "       -11.47505663, -12.38478837]), array([ 0.53565666, -0.41901548,  0.38040647, -0.35790794,  0.34230124,\n",
        "       -0.33047623,  0.32102229, -0.31318539,  0.30651729, -0.30073083]), array([ 0.70121082, -0.80311137,  0.86520403, -0.91085074,  0.94733571,\n",
        "       -0.97792281,  1.00437012, -1.02773869,  1.04872065, -1.06779386]))"
       ]
      },
      {
       "ename": "NameError",
       "evalue": "name 'x' is not defined",
       "output_type": "pyerr",
       "traceback": [
        "\u001b[0;31m---------------------------------------------------------------------------\u001b[0m\n\u001b[0;31mNameError\u001b[0m                                 Traceback (most recent call last)",
        "\u001b[0;32m<ipython-input-1-776661f3e63d>\u001b[0m in \u001b[0;36m<module>\u001b[0;34m()\u001b[0m\n\u001b[1;32m     22\u001b[0m \u001b[0;31m#x={}\u001b[0m\u001b[0;34m\u001b[0m\u001b[0;34m\u001b[0m\u001b[0m\n\u001b[1;32m     23\u001b[0m \u001b[0;32mfor\u001b[0m \u001b[0mi\u001b[0m \u001b[0;32min\u001b[0m \u001b[0mxfrange\u001b[0m\u001b[0;34m(\u001b[0m\u001b[0;36m0\u001b[0m\u001b[0;34m,\u001b[0m\u001b[0;36m20\u001b[0m\u001b[0;34m,\u001b[0m\u001b[0;36m0.00001\u001b[0m\u001b[0;34m)\u001b[0m\u001b[0;34m:\u001b[0m\u001b[0;34m\u001b[0m\u001b[0m\n\u001b[0;32m---> 24\u001b[0;31m     \u001b[0mx\u001b[0m\u001b[0;34m[\u001b[0m\u001b[0mi\u001b[0m\u001b[0;34m]\u001b[0m\u001b[0;34m=\u001b[0m\u001b[0msp\u001b[0m\u001b[0;34m.\u001b[0m\u001b[0mairy\u001b[0m\u001b[0;34m(\u001b[0m\u001b[0;34m(\u001b[0m\u001b[0;34m(\u001b[0m\u001b[0mnp\u001b[0m\u001b[0;34m.\u001b[0m\u001b[0mpi\u001b[0m\u001b[0;34m/\u001b[0m\u001b[0;34m(\u001b[0m\u001b[0;36m2.\u001b[0m\u001b[0;34m*\u001b[0m\u001b[0;36m1.149\u001b[0m\u001b[0;34m)\u001b[0m\u001b[0;34m)\u001b[0m\u001b[0;34m**\u001b[0m\u001b[0;34m(\u001b[0m\u001b[0;36m2.\u001b[0m\u001b[0;34m/\u001b[0m\u001b[0;36m3\u001b[0m\u001b[0;34m)\u001b[0m\u001b[0;34m)\u001b[0m\u001b[0;34m*\u001b[0m\u001b[0;34m(\u001b[0m\u001b[0;34m-\u001b[0m\u001b[0;36m1.\u001b[0m\u001b[0;34m)\u001b[0m\u001b[0;34m*\u001b[0m\u001b[0;34m(\u001b[0m\u001b[0;36m1.149\u001b[0m\u001b[0;34m+\u001b[0m\u001b[0mi\u001b[0m\u001b[0;34m)\u001b[0m\u001b[0;34m)\u001b[0m\u001b[0;34m\u001b[0m\u001b[0m\n\u001b[0m\u001b[1;32m     25\u001b[0m     \u001b[0mz\u001b[0m\u001b[0;34m[\u001b[0m\u001b[0mi\u001b[0m\u001b[0;34m]\u001b[0m\u001b[0;34m=\u001b[0m\u001b[0msp\u001b[0m\u001b[0;34m.\u001b[0m\u001b[0mairy\u001b[0m\u001b[0;34m(\u001b[0m\u001b[0;34m(\u001b[0m\u001b[0;34m(\u001b[0m\u001b[0mnp\u001b[0m\u001b[0;34m.\u001b[0m\u001b[0mpi\u001b[0m\u001b[0;34m/\u001b[0m\u001b[0;34m(\u001b[0m\u001b[0;36m2.\u001b[0m\u001b[0;34m*\u001b[0m\u001b[0;36m1.149\u001b[0m\u001b[0;34m)\u001b[0m\u001b[0;34m)\u001b[0m\u001b[0;34m**\u001b[0m\u001b[0;34m(\u001b[0m\u001b[0;36m2.\u001b[0m\u001b[0;34m/\u001b[0m\u001b[0;36m3\u001b[0m\u001b[0;34m)\u001b[0m\u001b[0;34m)\u001b[0m\u001b[0;34m*\u001b[0m\u001b[0;34m(\u001b[0m\u001b[0;36m1.149\u001b[0m\u001b[0;34m-\u001b[0m\u001b[0mi\u001b[0m\u001b[0;34m)\u001b[0m\u001b[0;34m)\u001b[0m\u001b[0;34m\u001b[0m\u001b[0m\n\u001b[1;32m     26\u001b[0m     \u001b[0mr\u001b[0m \u001b[0;34m=\u001b[0m \u001b[0mx\u001b[0m\u001b[0;34m[\u001b[0m\u001b[0mi\u001b[0m\u001b[0;34m]\u001b[0m\u001b[0;34m[\u001b[0m\u001b[0;36m0\u001b[0m\u001b[0;34m]\u001b[0m\u001b[0;34m*\u001b[0m\u001b[0mz\u001b[0m\u001b[0;34m[\u001b[0m\u001b[0mi\u001b[0m\u001b[0;34m]\u001b[0m\u001b[0;34m[\u001b[0m\u001b[0;36m2\u001b[0m\u001b[0;34m]\u001b[0m\u001b[0;34m-\u001b[0m\u001b[0mx\u001b[0m\u001b[0;34m[\u001b[0m\u001b[0mi\u001b[0m\u001b[0;34m]\u001b[0m\u001b[0;34m[\u001b[0m\u001b[0;36m2\u001b[0m\u001b[0;34m]\u001b[0m\u001b[0;34m*\u001b[0m\u001b[0mz\u001b[0m\u001b[0;34m[\u001b[0m\u001b[0mi\u001b[0m\u001b[0;34m]\u001b[0m\u001b[0;34m[\u001b[0m\u001b[0;36m0\u001b[0m\u001b[0;34m]\u001b[0m\u001b[0;34m\u001b[0m\u001b[0m\n",
        "\u001b[0;31mNameError\u001b[0m: name 'x' is not defined"
       ]
      },
      {
       "output_type": "stream",
       "stream": "stdout",
       "text": [
        "\n",
        "(3.2239358778810646e-10, 0.70121082272069146, -0.4539432020794768, -0.045982121333876143)\n"
       ]
      }
     ],
     "prompt_number": 1
    },
    {
     "cell_type": "code",
     "collapsed": false,
     "input": [],
     "language": "python",
     "metadata": {},
     "outputs": []
    }
   ],
   "metadata": {}
  }
 ]
}